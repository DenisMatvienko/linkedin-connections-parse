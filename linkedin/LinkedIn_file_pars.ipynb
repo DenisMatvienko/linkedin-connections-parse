{
 "cells": [
  {
   "cell_type": "code",
   "execution_count": 1,
   "metadata": {},
   "outputs": [
    {
     "name": "stdout",
     "output_type": "stream",
     "text": [
      "Requirement already satisfied: selenium in c:\\users\\денис\\appdata\\local\\programs\\python\\python37-32\\lib\\site-packages (3.141.0)\n",
      "Requirement already satisfied: urllib3 in c:\\users\\денис\\appdata\\local\\programs\\python\\python37-32\\lib\\site-packages (from selenium) (1.25.3)\n",
      "Requirement already satisfied: beautifulsoup4 in c:\\users\\денис\\appdata\\local\\programs\\python\\python37-32\\lib\\site-packages (4.7.1)\n",
      "Requirement already satisfied: soupsieve>=1.2 in c:\\users\\денис\\appdata\\local\\programs\\python\\python37-32\\lib\\site-packages (from beautifulsoup4) (1.9.1)\n"
     ]
    }
   ],
   "source": [
    "!pip install selenium\n",
    "\n",
    "!pip install beautifulsoup4"
   ]
  },
  {
   "cell_type": "code",
   "execution_count": 1,
   "metadata": {},
   "outputs": [],
   "source": [
    "#Задача:\n",
    "#1)Использовать прокси, для обхода блокировки\n",
    "#2)Залогиниться для получения информации профиля\n",
    "#3)Получить в профиле нужную страницу для ее парсинга\n",
    "#4)Использовать скрипт для скроллинга, учитывая пагинацию работает подгружаемым JS\n",
    "#5)Получить данные: Имя, компания, должность, мэил\n",
    "#5)Для получения данных  необходимо: Пройти каждому из пользователей в профиль, открыть эмулятором браузера подгружаемое JS окно с контактными данными\n",
    "#6)Произвести итерации с этими же действиями, по каждому из пользователей \n",
    "import requests, time, random\n",
    "from selenium import webdriver\n",
    "from bs4 import BeautifulSoup\n",
    "import csv"
   ]
  },
  {
   "cell_type": "code",
   "execution_count": 2,
   "metadata": {},
   "outputs": [],
   "source": [
    "with open('linkedin.csv', 'w') as f:\n",
    "    writer = csv.writer(f)\n",
    "    writer.writerow(['url','Имя','Компания', 'Должность', 'Email', 'Адрес'])"
   ]
  },
  {
   "cell_type": "code",
   "execution_count": 12,
   "metadata": {},
   "outputs": [
    {
     "name": "stderr",
     "output_type": "stream",
     "text": [
      "c:\\users\\денис\\appdata\\local\\programs\\python\\python37-32\\lib\\site-packages\\ipykernel_launcher.py:7: DeprecationWarning: use options instead of chrome_options\n",
      "  import sys\n"
     ]
    }
   ],
   "source": [
    "#Устанавливаем прокси для обхода блокировки, под проксей открываем страницу \"входа\", для ввода логина и праоля\n",
    "PROXY = '51.38.71.101:8080'\n",
    "\n",
    "chrome_options = webdriver.ChromeOptions()\n",
    "chrome_options.add_argument('--proxy-server=%s' % PROXY)\n",
    "\n",
    "chrome = webdriver.Chrome(chrome_options=chrome_options, executable_path='C:/Users/Денис/Desktop/linkedin/drive/chromedriver.exe')\n",
    "chrome.get(\"https://www.linkedin.com/uas/login\")"
   ]
  },
  {
   "cell_type": "code",
   "execution_count": 4,
   "metadata": {},
   "outputs": [],
   "source": [
    "#Открываем файл \"config.txt\", читаем, по ключам, то, что записали в него\n",
    "file = open('config.txt')\n",
    "lines = file.readlines()\n",
    "username = lines[0]\n",
    "password = lines[1]"
   ]
  },
  {
   "cell_type": "code",
   "execution_count": 5,
   "metadata": {},
   "outputs": [],
   "source": [
    "#Находим элемент по id и методом send_keys, вводим логин- записав в аргумент ранее ссылающую по ключу переменную\n",
    "elementID = chrome.find_element_by_id('username')\n",
    "elementID.send_keys(username)"
   ]
  },
  {
   "cell_type": "code",
   "execution_count": 6,
   "metadata": {},
   "outputs": [],
   "source": [
    "#Находим элемент по id и методом send_keys, вводим пароль- записав в аргумент ранее ссылающую по ключу переменную\n",
    "elementID = chrome.find_element_by_id('password')\n",
    "elementID.send_keys(password)"
   ]
  },
  {
   "cell_type": "code",
   "execution_count": 7,
   "metadata": {},
   "outputs": [],
   "source": [
    "#Нажимем кнопку входа\n",
    "elementID.submit()"
   ]
  },
  {
   "cell_type": "code",
   "execution_count": 8,
   "metadata": {},
   "outputs": [],
   "source": [
    "#Обозначаем стартовую страницу, с необходимой информацией для парсинга\n",
    "visiting_profiled_id = '/mynetwork/invite-connect/connections/'\n",
    "full_link = 'https://www.linkedin.com' + visiting_profiled_id\n",
    "chrome.get(full_link)"
   ]
  },
  {
   "cell_type": "code",
   "execution_count": 9,
   "metadata": {},
   "outputs": [],
   "source": [
    "#Получаем html страницы connections, разбираем его библиотекой BeautifulSoup\n",
    "src = chrome.page_source\n",
    "soup = BeautifulSoup(src, 'lxml')"
   ]
  },
  {
   "cell_type": "code",
   "execution_count": 10,
   "metadata": {},
   "outputs": [],
   "source": [
    "#Получаем все теги li содержащие имя и урлы>итерируем каждый li получая из каждого из них лиинк и урл. Урлы записываем в список urls, конкатенируя href\n",
    "urls = []\n",
    "name_li = soup.find_all('li', {'class':'list-style-none'})\n",
    "for a in name_li:    \n",
    "    links = a.find('div', {'class':'mn-connection-card ember-view'}).find('div', {'class': 'mn-connection-card__details'}).find('a').get('href')\n",
    "    urls.append('https://www.linkedin.com' + links)"
   ]
  },
  {
   "cell_type": "code",
   "execution_count": 11,
   "metadata": {},
   "outputs": [
    {
     "name": "stdout",
     "output_type": "stream",
     "text": [
      "md.mehedihasan9589@gmail.com https://www.linkedin.com/in/md-mehedi-hasan-747b72120 +8801715599589 February 26, 2020\n",
      "rohit.pr3612@gmail.com https://www.linkedin.com/in/rohit-sharma-199028116 8073983557 February 26, 2020\n",
      "feyisola@encyl.com https://www.linkedin.com/in/feyisola-olusesi-24031919b empty February 26, 2020\n",
      "ozgurtaskaya@gmail.com https://www.linkedin.com/in/ozgurtaskaya empty January 30, 2020\n",
      "katariya.sanjay@gmail.com https://www.linkedin.com/in/katariyasanjay +919810741164 January 30, 2020\n",
      "mihir.goradia1@gmail.com https://www.linkedin.com/in/mihir-goradia-1986331a empty January 30, 2020\n",
      "hotmaleuser@outlook.com https://www.linkedin.com/in/estebandobronsky empty January 30, 2020\n",
      "mac.dinesh1434@gmail.com https://www.linkedin.com/in/dinesh-kumar-b8190b48 empty January 30, 2020\n",
      "giladfecher1@gmail.com https://www.linkedin.com/in/gilad-fecher-932b7132 empty January 30, 2020\n",
      "suhas.burte143@gmail.com https://www.linkedin.com/in/suhas-burte-45791262 9405411143 January 30, 2020\n",
      "fabio.dalsoglio@gmail.com https://www.linkedin.com/in/fabio-dal-soglio-763586ba empty January 30, 2020\n",
      "doanbedieninge@live.com https://www.linkedin.com/in/japie-stoffberg-b3801684 empty January 30, 2020\n",
      "aderoky0@gmail.com https://www.linkedin.com/in/ren-leine-94349a196 empty January 30, 2020\n",
      "lrglover69@gmail.com https://www.linkedin.com/in/lashon-g-671540ba empty January 30, 2020\n",
      "yovanimonge1222@gmail.com https://www.linkedin.com/in/yovani-monge-53b528183 empty January 30, 2020\n",
      "gayatrikprasad@gmail.com https://www.linkedin.com/in/gayatriprasad1 empty January 30, 2020\n",
      "karim_choudhury@yahoo.com https://www.linkedin.com/in/shamsul-choudhury-7482459 empty January 30, 2020\n",
      "mignascimento@outlook.com https://www.linkedin.com/in/c-miguel-nascimento empty January 30, 2020\n",
      "jitendra@yoadsmedia.in https://www.linkedin.com/in/jitendra-joshi-27018417b 8090918668 January 30, 2020\n",
      "rahil.sha_83@yahoo.co.in https://www.linkedin.com/in/mohammad-rafiq-35b114a4 8169014998 January 30, 2020\n",
      "infoshubhamdholke@gmail.com https://www.linkedin.com/in/shubham-dholke-70245a18a +919027551224 January 30, 2020\n",
      "kolkata2345@gmail.com https://www.linkedin.com/in/ganesh-kumar-b71367a2 empty January 30, 2020\n",
      "hufan1515@163.com https://www.linkedin.com/in/fanny-hu-14b033ab empty January 30, 2020\n",
      "empty https://www.linkedin.com/in/ajayrana1012 empty January 30, 2020\n",
      "damini273@gmail.com https://www.linkedin.com/in/damini-deshmukh-43a870b4 empty January 30, 2020\n",
      "jenny@reachclicks.net https://www.linkedin.com/in/jenny-theodore-46186519b empty January 30, 2020\n",
      "empty https://www.linkedin.com/in/ralph-v-3047187a empty January 28, 2020\n",
      "staycationmedia@gmail.com https://www.linkedin.com/in/madonahue 888.439.2642  ext. 7102 January 28, 2020\n",
      "din1990@gmail.com https://www.linkedin.com/in/din-ben-itzhak-2337a415b empty January 28, 2020\n",
      "alexeykadrul@gmail.com https://www.linkedin.com/in/alex-kadrul-a14486153 empty January 28, 2020\n",
      "760137487@qq.com https://www.linkedin.com/in/demi-zhang-394683137 13228135420 January 28, 2020\n",
      "ajdin@monetizead.com https://www.linkedin.com/in/ajdin-brkovic-b51100a5 +38761644466 January 28, 2020\n",
      "andrea@alinari.it https://www.linkedin.com/in/andreadepolo +393474883223 January 28, 2020\n",
      "bhattharsh46@gmail.com https://www.linkedin.com/in/harsh-bhatt-706a58183 empty January 28, 2020\n",
      "mauryaankit31@gmail.com https://www.linkedin.com/in/ankit-maurya-609a32136 9721207131 January 28, 2020\n",
      "empty https://www.linkedin.com/in/karangoyal19 empty January 28, 2020\n",
      "faris.s@monadplug.com https://www.linkedin.com/in/farisselimbegović 0038765289 January 28, 2020\n",
      "pranabdatta9@gmail.com https://www.linkedin.com/in/pranab-datta-71180259 empty January 28, 2020\n",
      "alex@upraiser.agency https://www.linkedin.com/in/alex-ostroukhov-99351314b +380990016017 January 28, 2020\n",
      "sonkar.kiranp@gmail.com https://www.linkedin.com/in/kiransonkar +917738395196 January 28, 2020\n",
      "jeffreymas95@icloud.com https://www.linkedin.com/in/masonjeffreyofficial empty January 28, 2020\n",
      "bk654446645@gmail.com https://www.linkedin.com/in/bikash-ray-741645193 7737587212 January 28, 2020\n",
      "chemounygarry@gmail.com https://www.linkedin.com/in/garry-chemouny-466124194 empty January 28, 2020\n",
      "itamar.barzilay@facebook.com https://www.linkedin.com/in/itamar-barzilay-95544077 empty January 28, 2020\n",
      "ieporas@yahoo.com https://www.linkedin.com/in/ziv-noy-61024a63 +972528781933 January 28, 2020\n",
      "kegancharles303@gmail.com https://www.linkedin.com/in/kegan-charles-aa623284 empty January 28, 2020\n",
      "mountainrange41@gmail.com https://www.linkedin.com/in/shirley-velazquez-201aba153 empty January 28, 2020\n",
      "dibushchuk@gmail.com https://www.linkedin.com/in/dianna-bushchuk-632332123 empty January 28, 2020\n",
      "oli.vayner@gmail.com https://www.linkedin.com/in/olga-vayner empty January 24, 2020\n",
      "ytrotzky@gmail.com https://www.linkedin.com/in/jonathan-trotzky-9a6b1948 empty January 24, 2020\n",
      "samiksha@mindmine-services.com https://www.linkedin.com/in/samiksha-bhandari-a40b1b17b empty January 24, 2020\n",
      "alexkokudai@gmail.com https://www.linkedin.com/in/alexander-boldeskul-84a574a2 0635675192 January 24, 2020\n",
      "nikolay@1push.pro https://www.linkedin.com/in/nikolay-yanin-31586b199 empty January 20, 2020\n",
      "support@1push.pro https://www.linkedin.com/in/roman-vlasov-29b50419a empty January 20, 2020\n",
      "marketing@affiliatepaying.com https://www.linkedin.com/in/affiliatepaying empty January 14, 2020\n",
      "marketing@cerfmedia.com https://www.linkedin.com/in/nick-davis-62b750188 empty January 14, 2020\n",
      "alokiit13@gmail.com https://www.linkedin.com/in/alokjaihind 9630613702 January 14, 2020\n",
      "ishankdwivedi@gmail.com https://www.linkedin.com/in/ishank-dwivedi-71112356 empty January 14, 2020\n",
      "710kdc@gmail.com https://www.linkedin.com/in/krishan-dev-3b8163149 empty January 14, 2020\n",
      "sam@commissionempire.com https://www.linkedin.com/in/neerajmahajan1 empty January 14, 2020\n",
      "hvaish419@gmail.com https://www.linkedin.com/in/himanshu-vaish-490594130 8650588119 January 14, 2020\n",
      "tom@tklsw.com https://www.linkedin.com/in/wealthcoachtom empty January 14, 2020\n",
      "keymarketingteam@yahoo.com https://www.linkedin.com/in/henry-key-06704551 empty January 14, 2020\n",
      "leonitkabashi@gmail.com https://www.linkedin.com/in/leonit-kabashi-65b81413a empty January 14, 2020\n",
      "saksham@increvenue.com https://www.linkedin.com/in/saksham-khanda-868a47104 empty January 14, 2020\n",
      "kotikovruslan.fincone@gmail.com https://www.linkedin.com/in/руслан-котиков-95b255192 +375297982271 January 14, 2020\n",
      "empty https://www.linkedin.com/in/iamashu empty January 14, 2020\n",
      "venkatsaideshpande@gmail.com https://www.linkedin.com/in/venkatsaideshpande 9550156567 January 14, 2020\n",
      "gabryavatar33@gmail.com https://www.linkedin.com/in/gabriella-corna-45a254197 empty January 14, 2020\n",
      "arjun-a@live.com https://www.linkedin.com/in/arjunahluwalia1 empty January 14, 2020\n",
      "carla@smoothieads.com https://www.linkedin.com/in/carla-branescu-779147198 empty January 14, 2020\n",
      "ashrithareddyampoli@gmail.com https://www.linkedin.com/in/ashritha-reddy-a89664149 empty January 14, 2020\n",
      "empty https://www.linkedin.com/in/domen-h-5b9351120 empty January 14, 2020\n",
      "1400saurabh@gmail.com https://www.linkedin.com/in/saurabh-kushwaha-5b093879 empty January 14, 2020\n",
      "906545760@qq.com https://www.linkedin.com/in/leen-li-3a555315a empty January 14, 2020\n",
      "pratik.thakkar2585@gmail.com https://www.linkedin.com/in/pratik-t empty January 14, 2020\n",
      "roshan@luminousrtb.com https://www.linkedin.com/in/roshanluminousrtb empty January 14, 2020\n",
      "yarin@mojoomedia.com https://www.linkedin.com/in/yarin-orfali empty January 14, 2020\n",
      "itsnaseemalvi@gmail.com https://www.linkedin.com/in/naseem-alvi-65421217a +91-8800533891 January 14, 2020\n",
      "fengyunke@foxseek.com https://www.linkedin.com/in/yunke-feng-b8806816a 13989299607 January 14, 2020\n",
      "info@absolute-web.net https://www.linkedin.com/in/ravindra-raut-77485771 empty January 14, 2020\n",
      "faik.kessaf@gmail.com https://www.linkedin.com/in/faik-kessaf-73280325 empty January 14, 2020\n",
      "santosh@skylarkbroadband.com https://www.linkedin.com/in/santosh-jayasawal-911902195 empty January 14, 2020\n",
      "yanitsa.ruseva.14@gmail.com https://www.linkedin.com/in/yanitsa-ruseva-073887195 empty January 14, 2020\n",
      "jaggu2285@gmail.com https://www.linkedin.com/in/jagadish-p-455597a7 empty January 14, 2020\n",
      "empty https://www.linkedin.com/in/julia-rymashevskaya-816a97197 empty January 14, 2020\n"
     ]
    },
    {
     "name": "stdout",
     "output_type": "stream",
     "text": [
      "d@followdigits.com https://www.linkedin.com/in/dominik-jenner-98869815 empty December 24, 2019\n",
      "priyaanka.ray@gmail.com https://www.linkedin.com/in/priyankarayk empty December 23, 2019\n",
      "olgad_pegas@mail.ru https://www.linkedin.com/in/olga-dracheva-6013b285 +79811961008 December 17, 2019\n",
      "chanhoe@puretechglobal.com https://www.linkedin.com/in/chan-hoe-leung-a3a5a3197 empty December 17, 2019\n",
      "tim@phybbit.com https://www.linkedin.com/in/timintokyo empty December 17, 2019\n",
      "puja.noida1994@gmail.com https://www.linkedin.com/in/pooja-verma-b0359816a www.apptmedia.com September 24, 2019\n",
      "georgianamaria.florea@gmail.com https://www.linkedin.com/in/georgiana-florea-3503b7125 empty September 24, 2019\n"
     ]
    },
    {
     "ename": "JavascriptException",
     "evalue": "Message: javascript error: Cannot read property 'scrollHeight' of null\n  (Session info: chrome=80.0.3987.122)\n",
     "output_type": "error",
     "traceback": [
      "\u001b[1;31m---------------------------------------------------------------------------\u001b[0m",
      "\u001b[1;31mJavascriptException\u001b[0m                       Traceback (most recent call last)",
      "\u001b[1;32m<ipython-input-11-229a03e698e4>\u001b[0m in \u001b[0;36m<module>\u001b[1;34m\u001b[0m\n\u001b[0;32m     65\u001b[0m \u001b[1;33m\u001b[0m\u001b[0m\n\u001b[0;32m     66\u001b[0m     \u001b[1;31m# Get scroll height\u001b[0m\u001b[1;33m\u001b[0m\u001b[1;33m\u001b[0m\u001b[1;33m\u001b[0m\u001b[0m\n\u001b[1;32m---> 67\u001b[1;33m     \u001b[0mlast_height\u001b[0m \u001b[1;33m=\u001b[0m \u001b[0mchrome\u001b[0m\u001b[1;33m.\u001b[0m\u001b[0mexecute_script\u001b[0m\u001b[1;33m(\u001b[0m\u001b[1;34m\"return document.body.scrollHeight\"\u001b[0m\u001b[1;33m)\u001b[0m\u001b[1;33m\u001b[0m\u001b[1;33m\u001b[0m\u001b[0m\n\u001b[0m\u001b[0;32m     68\u001b[0m \u001b[1;33m\u001b[0m\u001b[0m\n\u001b[0;32m     69\u001b[0m     \u001b[1;32mfor\u001b[0m \u001b[0mi\u001b[0m \u001b[1;32min\u001b[0m \u001b[0mrange\u001b[0m\u001b[1;33m(\u001b[0m\u001b[1;36m3\u001b[0m\u001b[1;33m)\u001b[0m\u001b[1;33m:\u001b[0m\u001b[1;33m\u001b[0m\u001b[1;33m\u001b[0m\u001b[0m\n",
      "\u001b[1;32mc:\\users\\денис\\appdata\\local\\programs\\python\\python37-32\\lib\\site-packages\\selenium\\webdriver\\remote\\webdriver.py\u001b[0m in \u001b[0;36mexecute_script\u001b[1;34m(self, script, *args)\u001b[0m\n\u001b[0;32m    634\u001b[0m         return self.execute(command, {\n\u001b[0;32m    635\u001b[0m             \u001b[1;34m'script'\u001b[0m\u001b[1;33m:\u001b[0m \u001b[0mscript\u001b[0m\u001b[1;33m,\u001b[0m\u001b[1;33m\u001b[0m\u001b[1;33m\u001b[0m\u001b[0m\n\u001b[1;32m--> 636\u001b[1;33m             'args': converted_args})['value']\n\u001b[0m\u001b[0;32m    637\u001b[0m \u001b[1;33m\u001b[0m\u001b[0m\n\u001b[0;32m    638\u001b[0m     \u001b[1;32mdef\u001b[0m \u001b[0mexecute_async_script\u001b[0m\u001b[1;33m(\u001b[0m\u001b[0mself\u001b[0m\u001b[1;33m,\u001b[0m \u001b[0mscript\u001b[0m\u001b[1;33m,\u001b[0m \u001b[1;33m*\u001b[0m\u001b[0margs\u001b[0m\u001b[1;33m)\u001b[0m\u001b[1;33m:\u001b[0m\u001b[1;33m\u001b[0m\u001b[1;33m\u001b[0m\u001b[0m\n",
      "\u001b[1;32mc:\\users\\денис\\appdata\\local\\programs\\python\\python37-32\\lib\\site-packages\\selenium\\webdriver\\remote\\webdriver.py\u001b[0m in \u001b[0;36mexecute\u001b[1;34m(self, driver_command, params)\u001b[0m\n\u001b[0;32m    319\u001b[0m         \u001b[0mresponse\u001b[0m \u001b[1;33m=\u001b[0m \u001b[0mself\u001b[0m\u001b[1;33m.\u001b[0m\u001b[0mcommand_executor\u001b[0m\u001b[1;33m.\u001b[0m\u001b[0mexecute\u001b[0m\u001b[1;33m(\u001b[0m\u001b[0mdriver_command\u001b[0m\u001b[1;33m,\u001b[0m \u001b[0mparams\u001b[0m\u001b[1;33m)\u001b[0m\u001b[1;33m\u001b[0m\u001b[1;33m\u001b[0m\u001b[0m\n\u001b[0;32m    320\u001b[0m         \u001b[1;32mif\u001b[0m \u001b[0mresponse\u001b[0m\u001b[1;33m:\u001b[0m\u001b[1;33m\u001b[0m\u001b[1;33m\u001b[0m\u001b[0m\n\u001b[1;32m--> 321\u001b[1;33m             \u001b[0mself\u001b[0m\u001b[1;33m.\u001b[0m\u001b[0merror_handler\u001b[0m\u001b[1;33m.\u001b[0m\u001b[0mcheck_response\u001b[0m\u001b[1;33m(\u001b[0m\u001b[0mresponse\u001b[0m\u001b[1;33m)\u001b[0m\u001b[1;33m\u001b[0m\u001b[1;33m\u001b[0m\u001b[0m\n\u001b[0m\u001b[0;32m    322\u001b[0m             response['value'] = self._unwrap_value(\n\u001b[0;32m    323\u001b[0m                 response.get('value', None))\n",
      "\u001b[1;32mc:\\users\\денис\\appdata\\local\\programs\\python\\python37-32\\lib\\site-packages\\selenium\\webdriver\\remote\\errorhandler.py\u001b[0m in \u001b[0;36mcheck_response\u001b[1;34m(self, response)\u001b[0m\n\u001b[0;32m    240\u001b[0m                 \u001b[0malert_text\u001b[0m \u001b[1;33m=\u001b[0m \u001b[0mvalue\u001b[0m\u001b[1;33m[\u001b[0m\u001b[1;34m'alert'\u001b[0m\u001b[1;33m]\u001b[0m\u001b[1;33m.\u001b[0m\u001b[0mget\u001b[0m\u001b[1;33m(\u001b[0m\u001b[1;34m'text'\u001b[0m\u001b[1;33m)\u001b[0m\u001b[1;33m\u001b[0m\u001b[1;33m\u001b[0m\u001b[0m\n\u001b[0;32m    241\u001b[0m             \u001b[1;32mraise\u001b[0m \u001b[0mexception_class\u001b[0m\u001b[1;33m(\u001b[0m\u001b[0mmessage\u001b[0m\u001b[1;33m,\u001b[0m \u001b[0mscreen\u001b[0m\u001b[1;33m,\u001b[0m \u001b[0mstacktrace\u001b[0m\u001b[1;33m,\u001b[0m \u001b[0malert_text\u001b[0m\u001b[1;33m)\u001b[0m\u001b[1;33m\u001b[0m\u001b[1;33m\u001b[0m\u001b[0m\n\u001b[1;32m--> 242\u001b[1;33m         \u001b[1;32mraise\u001b[0m \u001b[0mexception_class\u001b[0m\u001b[1;33m(\u001b[0m\u001b[0mmessage\u001b[0m\u001b[1;33m,\u001b[0m \u001b[0mscreen\u001b[0m\u001b[1;33m,\u001b[0m \u001b[0mstacktrace\u001b[0m\u001b[1;33m)\u001b[0m\u001b[1;33m\u001b[0m\u001b[1;33m\u001b[0m\u001b[0m\n\u001b[0m\u001b[0;32m    243\u001b[0m \u001b[1;33m\u001b[0m\u001b[0m\n\u001b[0;32m    244\u001b[0m     \u001b[1;32mdef\u001b[0m \u001b[0m_value_or_default\u001b[0m\u001b[1;33m(\u001b[0m\u001b[0mself\u001b[0m\u001b[1;33m,\u001b[0m \u001b[0mobj\u001b[0m\u001b[1;33m,\u001b[0m \u001b[0mkey\u001b[0m\u001b[1;33m,\u001b[0m \u001b[0mdefault\u001b[0m\u001b[1;33m)\u001b[0m\u001b[1;33m:\u001b[0m\u001b[1;33m\u001b[0m\u001b[1;33m\u001b[0m\u001b[0m\n",
      "\u001b[1;31mJavascriptException\u001b[0m: Message: javascript error: Cannot read property 'scrollHeight' of null\n  (Session info: chrome=80.0.3987.122)\n"
     ]
    }
   ],
   "source": [
    "#Записываем то, что спарсили в csv\n",
    "def write_csv(data):\n",
    "    with open('linkedin.csv', 'a', encoding='utf-8') as f:\n",
    "        writer = csv.writer(f)\n",
    "        writer.writerow([data['full_link_doc'],\n",
    "                         data['name_of_connect_person'],\n",
    "                         data['company_name'],\n",
    "                         data['position_in_company_of_connect_person'],\n",
    "                         data['email'],\n",
    "                         data['location'],\n",
    "                         data['mobile_phone'],\n",
    "                         data['connected']])\n",
    "        \n",
    "#Зацикливаем полученый ранее список для получения информации со страницы у каждого из пользователей\n",
    "for url in urls:\n",
    "    visiting_profile = url\n",
    "    chrome.get(visiting_profile)\n",
    "    \n",
    "    #Открываем контактную информацию, скролим, получаем хтмл\n",
    "    chrome.find_element_by_link_text('Contact info').click()\n",
    "    \n",
    "    SCROLL_PAUSE_TIME = 5\n",
    "\n",
    "    # Get scroll height\n",
    "    last_height = chrome.execute_script(\"return document.body.scrollHeight\")\n",
    "\n",
    "    for i in range(3):\n",
    "        # Scroll down to bottom\n",
    "        chrome.execute_script(\"window.scrollTo(0, document.body.scrollHeight);\")\n",
    "\n",
    "        # Wait to load page\n",
    "        time.sleep(SCROLL_PAUSE_TIME)\n",
    "\n",
    "        # Calculate new scroll height and compare with last scroll height\n",
    "        new_height = chrome.execute_script(\"return document.body.scrollHeight\")\n",
    "        if new_height == last_height:\n",
    "            break\n",
    "        last_height = new_height\n",
    "\n",
    "    src = chrome.page_source\n",
    "    soup = BeautifulSoup(src, 'lxml')\n",
    "    try:\n",
    "        email = soup.find('section', {'class':'pv-contact-info__contact-type ci-email'}).find('div', {'class': 'pv-contact-info__ci-container t-14'}).find('a', {'class':'pv-contact-info__contact-link t-14 t-black t-normal'}).text.strip()\n",
    "    except:\n",
    "        email = 'empty'\n",
    "    try:    \n",
    "        full_link_doc = 'https://www.' + soup.find('a', {'class':'pv-contact-info__contact-link t-14 t-black t-normal'}).text.strip()\n",
    "    except:\n",
    "        full_link_doc = 'empty'\n",
    "    try:\n",
    "        mobile_phone = soup.find('section', {'class':'pv-contact-info__contact-type ci-phone'}).find('ul', {'class': 'list-style-none'}).find('span', {'class':'t-14 t-black t-normal'}).text.strip()\n",
    "    except:\n",
    "        mobile_phone = 'empty'\n",
    "    try:\n",
    "        connected = soup.find('section', {'class':'pv-contact-info__contact-type ci-connected'}).find('div', {'class': 'pv-contact-info__ci-container t-14'}).find('span', {'class':'pv-contact-info__contact-item t-14 t-black t-normal'}).text.strip()\n",
    "    except:\n",
    "        connected = 'empty'\n",
    "        \n",
    "    print(email, full_link_doc, mobile_phone, connected)\n",
    "\n",
    "    chrome.get(visiting_profile)    \n",
    "    \n",
    "    # Тоже самое проделываем и с основной страницей полльзователя, собираем нужную информацию\n",
    "    SCROLL_PAUSE_TIME = 5\n",
    "\n",
    "    # Get scroll height\n",
    "    last_height = chrome.execute_script(\"return document.body.scrollHeight\")\n",
    "\n",
    "    for i in range(3):\n",
    "        # Scroll down to bottom\n",
    "        chrome.execute_script(\"window.scrollTo(0, document.body.scrollHeight);\")\n",
    "\n",
    "        # Wait to load page\n",
    "        time.sleep(SCROLL_PAUSE_TIME)\n",
    "\n",
    "        # Calculate new scroll height and compare with last scroll height\n",
    "        new_height = chrome.execute_script(\"return document.body.scrollHeight\")\n",
    "        if new_height == last_height:\n",
    "            break\n",
    "        last_height = new_height\n",
    "        \n",
    "        src = chrome.page_source\n",
    "        soup = BeautifulSoup(src, 'lxml')\n",
    "        try:\n",
    "            name_of_connect_person = soup.find('ul', {'class': 'pv-top-card--list inline-flex align-items-center'}).find('li', {'class':'inline t-24 t-black t-normal break-words'}).text.strip()\n",
    "        except: \n",
    "            name_of_connect_person = 'empty'\n",
    "        try:    \n",
    "            position_in_company_of_connect_person = soup.find('h2', {'class':'mt1 t-18 t-black t-normal'}).text.strip()\n",
    "        except:\n",
    "            position_in_company_of_connect_person = 'empty'\n",
    "        try:\n",
    "            location = soup.find('li', {'class': 't-16 t-black t-normal inline-block'}).text.strip()\n",
    "        except:\n",
    "            location = 'empty'\n",
    "        try:\n",
    "            company_name = soup.find('ul', {'class': 'pv-top-card--experience-list'}).find('span').text.strip()\n",
    "        except:\n",
    "            company_name = 'empty'\n",
    "            \n",
    "        data = {'full_link_doc': full_link_doc,\n",
    "               'name_of_connect_person': name_of_connect_person,\n",
    "               'company_name': company_name,\n",
    "               'position_in_company_of_connect_person': position_in_company_of_connect_person,\n",
    "               'email':email,\n",
    "               'location': location,\n",
    "               'mobile_phone': mobile_phone,\n",
    "               'connected': connected}\n",
    "        write_csv(data)\n",
    "        \n",
    "        \n",
    "        "
   ]
  },
  {
   "cell_type": "code",
   "execution_count": null,
   "metadata": {},
   "outputs": [],
   "source": []
  },
  {
   "cell_type": "code",
   "execution_count": null,
   "metadata": {},
   "outputs": [],
   "source": []
  },
  {
   "cell_type": "code",
   "execution_count": null,
   "metadata": {},
   "outputs": [],
   "source": []
  }
 ],
 "metadata": {
  "kernelspec": {
   "display_name": "Python 3",
   "language": "python",
   "name": "python3"
  },
  "language_info": {
   "codemirror_mode": {
    "name": "ipython",
    "version": 3
   },
   "file_extension": ".py",
   "mimetype": "text/x-python",
   "name": "python",
   "nbconvert_exporter": "python",
   "pygments_lexer": "ipython3",
   "version": "3.7.3"
  }
 },
 "nbformat": 4,
 "nbformat_minor": 4
}
