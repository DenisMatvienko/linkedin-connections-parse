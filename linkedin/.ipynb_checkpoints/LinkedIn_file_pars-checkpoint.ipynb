{
 "cells": [
  {
   "cell_type": "code",
   "execution_count": 1,
   "metadata": {},
   "outputs": [
    {
     "name": "stdout",
     "output_type": "stream",
     "text": [
      "Requirement already satisfied: selenium in c:\\users\\денис\\appdata\\local\\programs\\python\\python37-32\\lib\\site-packages (3.141.0)\n",
      "Requirement already satisfied: urllib3 in c:\\users\\денис\\appdata\\local\\programs\\python\\python37-32\\lib\\site-packages (from selenium) (1.25.3)\n",
      "Requirement already satisfied: beautifulsoup4 in c:\\users\\денис\\appdata\\local\\programs\\python\\python37-32\\lib\\site-packages (4.7.1)\n",
      "Requirement already satisfied: soupsieve>=1.2 in c:\\users\\денис\\appdata\\local\\programs\\python\\python37-32\\lib\\site-packages (from beautifulsoup4) (1.9.1)\n"
     ]
    }
   ],
   "source": [
    "!pip install selenium\n",
    "\n",
    "!pip install beautifulsoup4"
   ]
  },
  {
   "cell_type": "code",
   "execution_count": 71,
   "metadata": {},
   "outputs": [],
   "source": [
    "#Задача:\n",
    "#1)Использовать прокси, для обхода блокировки\n",
    "#2)Залогиниться для получения информации профиля\n",
    "#3)Получить в профиле нужную страницу для ее парсинга\n",
    "#4)Использовать скрипт для скроллинга, учитывая пагинацию работает подгружаемым JS\n",
    "#5)Получить данные: Имя, компания, должность, мэил\n",
    "#5)Для получения данных  необходимо: Пройти каждому из пользователей в профиль, открыть эмулятором браузера подгружаемое JS окно с контактными данными\n",
    "#6)Произвести итерации с этими же действиями, по каждому из пользователей \n",
    "import requests, time, random\n",
    "from selenium import webdriver\n",
    "from bs4 import BeautifulSoup\n",
    "import csv"
   ]
  },
  {
   "cell_type": "code",
   "execution_count": 72,
   "metadata": {},
   "outputs": [],
   "source": [
    "with open('linkedin.csv', 'w') as f:\n",
    "    writer = csv.writer(f)\n",
    "    writer.writerow(['url','Имя','Компания', 'Должность', 'Email', 'Адрес'])"
   ]
  },
  {
   "cell_type": "code",
   "execution_count": 73,
   "metadata": {},
   "outputs": [
    {
     "name": "stderr",
     "output_type": "stream",
     "text": [
      "c:\\users\\денис\\appdata\\local\\programs\\python\\python37-32\\lib\\site-packages\\ipykernel_launcher.py:7: DeprecationWarning: use options instead of chrome_options\n",
      "  import sys\n"
     ]
    }
   ],
   "source": [
    "#Устанавливаем прокси для обхода блокировки, под проксей открываем страницу \"входа\", для ввода логина и праоля\n",
    "PROXY = '51.38.71.101:8080'\n",
    "\n",
    "chrome_options = webdriver.ChromeOptions()\n",
    "chrome_options.add_argument('--proxy-server=%s' % PROXY)\n",
    "\n",
    "chrome = webdriver.Chrome(chrome_options=chrome_options, executable_path='C:/Users/Денис/Desktop/linkedin/drive/chromedriver.exe')\n",
    "chrome.get(\"https://www.linkedin.com/uas/login\")"
   ]
  },
  {
   "cell_type": "code",
   "execution_count": 74,
   "metadata": {},
   "outputs": [],
   "source": [
    "#Открываем файл \"config.txt\", читаем, по ключам, то, что записали в него\n",
    "file = open('config.txt')\n",
    "lines = file.readlines()\n",
    "username = lines[0]\n",
    "password = lines[1]"
   ]
  },
  {
   "cell_type": "code",
   "execution_count": 75,
   "metadata": {},
   "outputs": [],
   "source": [
    "#Находим элемент по id и методом send_keys, вводим логин- записав в аргумент ранее ссылающую по ключу переменную\n",
    "elementID = chrome.find_element_by_id('username')\n",
    "elementID.send_keys(username)"
   ]
  },
  {
   "cell_type": "code",
   "execution_count": 76,
   "metadata": {},
   "outputs": [],
   "source": [
    "#Находим элемент по id и методом send_keys, вводим пароль- записав в аргумент ранее ссылающую по ключу переменную\n",
    "elementID = chrome.find_element_by_id('password')\n",
    "elementID.send_keys(password)"
   ]
  },
  {
   "cell_type": "code",
   "execution_count": 77,
   "metadata": {},
   "outputs": [],
   "source": [
    "#Нажимем кнопку входа\n",
    "elementID.submit()"
   ]
  },
  {
   "cell_type": "code",
   "execution_count": 78,
   "metadata": {},
   "outputs": [],
   "source": [
    "#Обозначаем стартовую страницу, с необходимой информацией для парсинга\n",
    "visiting_profiled_id = '/mynetwork/invite-connect/connections/'\n",
    "full_link = 'https://www.linkedin.com' + visiting_profiled_id\n",
    "chrome.get(full_link)"
   ]
  },
  {
   "cell_type": "code",
   "execution_count": 82,
   "metadata": {},
   "outputs": [],
   "source": [
    "#Получаем html страницы connections, разбираем его библиотекой BeautifulSoup\n",
    "src = chrome.page_source\n",
    "soup = BeautifulSoup(src, 'lxml')"
   ]
  },
  {
   "cell_type": "code",
   "execution_count": 83,
   "metadata": {},
   "outputs": [],
   "source": [
    "#Получаем все теги li содержащие имя и урлы>итерируем каждый li получая из каждого из них лиинк и урл. Урлы записываем в список urls, конкатенируя href\n",
    "urls = []\n",
    "name_li = soup.find_all('li', {'class':'list-style-none'})\n",
    "for a in name_li:    \n",
    "    links = a.find('div', {'class':'mn-connection-card ember-view'}).find('div', {'class': 'mn-connection-card__details'}).find('a').get('href')\n",
    "    urls.append('https://www.linkedin.com' + links)"
   ]
  },
  {
   "cell_type": "code",
   "execution_count": 84,
   "metadata": {},
   "outputs": [
    {
     "name": "stdout",
     "output_type": "stream",
     "text": [
      "md.mehedihasan9589@gmail.com linkedin.com/in/md-mehedi-hasan-747b72120\n",
      "rohit.pr3612@gmail.com linkedin.com/in/rohit-sharma-199028116\n",
      "feyisola@encyl.com linkedin.com/in/feyisola-olusesi-24031919b\n",
      "ozgurtaskaya@gmail.com linkedin.com/in/ozgurtaskaya\n",
      "katariya.sanjay@gmail.com linkedin.com/in/katariyasanjay\n",
      "mihir.goradia1@gmail.com linkedin.com/in/mihir-goradia-1986331a\n",
      "hotmaleuser@outlook.com linkedin.com/in/estebandobronsky\n",
      "mac.dinesh1434@gmail.com linkedin.com/in/dinesh-kumar-b8190b48\n",
      "giladfecher1@gmail.com linkedin.com/in/gilad-fecher-932b7132\n",
      "suhas.burte143@gmail.com linkedin.com/in/suhas-burte-45791262\n",
      "fabio.dalsoglio@gmail.com linkedin.com/in/fabio-dal-soglio-763586ba\n",
      "doanbedieninge@live.com linkedin.com/in/japie-stoffberg-b3801684\n",
      "aderoky0@gmail.com linkedin.com/in/ren-leine-94349a196\n",
      "lrglover69@gmail.com linkedin.com/in/lashon-g-671540ba\n",
      "yovanimonge1222@gmail.com linkedin.com/in/yovani-monge-53b528183\n",
      "gayatrikprasad@gmail.com linkedin.com/in/gayatriprasad1\n",
      "karim_choudhury@yahoo.com linkedin.com/in/shamsul-choudhury-7482459\n",
      "mignascimento@outlook.com linkedin.com/in/c-miguel-nascimento\n",
      "jitendra@yoadsmedia.in linkedin.com/in/jitendra-joshi-27018417b\n",
      "rahil.sha_83@yahoo.co.in linkedin.com/in/mohammad-rafiq-35b114a4\n",
      "infoshubhamdholke@gmail.com linkedin.com/in/shubham-dholke-70245a18a\n",
      "kolkata2345@gmail.com linkedin.com/in/ganesh-kumar-b71367a2\n",
      "hufan1515@163.com linkedin.com/in/fanny-hu-14b033ab\n",
      "empty linkedin.com/in/ajayrana1012\n",
      "damini273@gmail.com linkedin.com/in/damini-deshmukh-43a870b4\n",
      "jenny@reachclicks.net linkedin.com/in/jenny-theodore-46186519b\n",
      "empty linkedin.com/in/ralph-v-3047187a\n",
      "staycationmedia@gmail.com linkedin.com/in/madonahue\n",
      "din1990@gmail.com linkedin.com/in/din-ben-itzhak-2337a415b\n",
      "alexeykadrul@gmail.com linkedin.com/in/alex-kadrul-a14486153\n",
      "760137487@qq.com linkedin.com/in/demi-zhang-394683137\n",
      "ajdin@monetizead.com linkedin.com/in/ajdin-brkovic-b51100a5\n",
      "andrea@alinari.it linkedin.com/in/andreadepolo\n",
      "bhattharsh46@gmail.com linkedin.com/in/harsh-bhatt-706a58183\n",
      "mauryaankit31@gmail.com linkedin.com/in/ankit-maurya-609a32136\n",
      "empty linkedin.com/in/karangoyal19\n",
      "faris.s@monadplug.com linkedin.com/in/farisselimbegović\n"
     ]
    },
    {
     "ename": "UnicodeEncodeError",
     "evalue": "'charmap' codec can't encode character '\\u0107' in position 32: character maps to <undefined>",
     "output_type": "error",
     "traceback": [
      "\u001b[1;31m---------------------------------------------------------------------------\u001b[0m",
      "\u001b[1;31mUnicodeEncodeError\u001b[0m                        Traceback (most recent call last)",
      "\u001b[1;32m<ipython-input-84-579c22a45b78>\u001b[0m in \u001b[0;36m<module>\u001b[1;34m\u001b[0m\n\u001b[0;32m     88\u001b[0m                \u001b[1;34m'email'\u001b[0m\u001b[1;33m:\u001b[0m\u001b[0memail\u001b[0m\u001b[1;33m,\u001b[0m\u001b[1;33m\u001b[0m\u001b[1;33m\u001b[0m\u001b[0m\n\u001b[0;32m     89\u001b[0m                'location': location}\n\u001b[1;32m---> 90\u001b[1;33m         \u001b[0mwrite_csv\u001b[0m\u001b[1;33m(\u001b[0m\u001b[0mdata\u001b[0m\u001b[1;33m)\u001b[0m\u001b[1;33m\u001b[0m\u001b[1;33m\u001b[0m\u001b[0m\n\u001b[0m\u001b[0;32m     91\u001b[0m \u001b[1;33m\u001b[0m\u001b[0m\n\u001b[0;32m     92\u001b[0m \u001b[1;33m\u001b[0m\u001b[0m\n",
      "\u001b[1;32m<ipython-input-84-579c22a45b78>\u001b[0m in \u001b[0;36mwrite_csv\u001b[1;34m(data)\u001b[0m\n\u001b[0;32m      7\u001b[0m                          \u001b[0mdata\u001b[0m\u001b[1;33m[\u001b[0m\u001b[1;34m'position_in_company_of_connect_person'\u001b[0m\u001b[1;33m]\u001b[0m\u001b[1;33m,\u001b[0m\u001b[1;33m\u001b[0m\u001b[1;33m\u001b[0m\u001b[0m\n\u001b[0;32m      8\u001b[0m                          \u001b[0mdata\u001b[0m\u001b[1;33m[\u001b[0m\u001b[1;34m'email'\u001b[0m\u001b[1;33m]\u001b[0m\u001b[1;33m,\u001b[0m\u001b[1;33m\u001b[0m\u001b[1;33m\u001b[0m\u001b[0m\n\u001b[1;32m----> 9\u001b[1;33m                          data['location']])\n\u001b[0m\u001b[0;32m     10\u001b[0m \u001b[1;33m\u001b[0m\u001b[0m\n\u001b[0;32m     11\u001b[0m \u001b[1;31m#Зацикливаем полученый ранее список для получения информации со страницы у каждого из пользователей\u001b[0m\u001b[1;33m\u001b[0m\u001b[1;33m\u001b[0m\u001b[1;33m\u001b[0m\u001b[0m\n",
      "\u001b[1;32mc:\\users\\денис\\appdata\\local\\programs\\python\\python37-32\\lib\\encodings\\cp1251.py\u001b[0m in \u001b[0;36mencode\u001b[1;34m(self, input, final)\u001b[0m\n\u001b[0;32m     17\u001b[0m \u001b[1;32mclass\u001b[0m \u001b[0mIncrementalEncoder\u001b[0m\u001b[1;33m(\u001b[0m\u001b[0mcodecs\u001b[0m\u001b[1;33m.\u001b[0m\u001b[0mIncrementalEncoder\u001b[0m\u001b[1;33m)\u001b[0m\u001b[1;33m:\u001b[0m\u001b[1;33m\u001b[0m\u001b[1;33m\u001b[0m\u001b[0m\n\u001b[0;32m     18\u001b[0m     \u001b[1;32mdef\u001b[0m \u001b[0mencode\u001b[0m\u001b[1;33m(\u001b[0m\u001b[0mself\u001b[0m\u001b[1;33m,\u001b[0m \u001b[0minput\u001b[0m\u001b[1;33m,\u001b[0m \u001b[0mfinal\u001b[0m\u001b[1;33m=\u001b[0m\u001b[1;32mFalse\u001b[0m\u001b[1;33m)\u001b[0m\u001b[1;33m:\u001b[0m\u001b[1;33m\u001b[0m\u001b[1;33m\u001b[0m\u001b[0m\n\u001b[1;32m---> 19\u001b[1;33m         \u001b[1;32mreturn\u001b[0m \u001b[0mcodecs\u001b[0m\u001b[1;33m.\u001b[0m\u001b[0mcharmap_encode\u001b[0m\u001b[1;33m(\u001b[0m\u001b[0minput\u001b[0m\u001b[1;33m,\u001b[0m\u001b[0mself\u001b[0m\u001b[1;33m.\u001b[0m\u001b[0merrors\u001b[0m\u001b[1;33m,\u001b[0m\u001b[0mencoding_table\u001b[0m\u001b[1;33m)\u001b[0m\u001b[1;33m[\u001b[0m\u001b[1;36m0\u001b[0m\u001b[1;33m]\u001b[0m\u001b[1;33m\u001b[0m\u001b[1;33m\u001b[0m\u001b[0m\n\u001b[0m\u001b[0;32m     20\u001b[0m \u001b[1;33m\u001b[0m\u001b[0m\n\u001b[0;32m     21\u001b[0m \u001b[1;32mclass\u001b[0m \u001b[0mIncrementalDecoder\u001b[0m\u001b[1;33m(\u001b[0m\u001b[0mcodecs\u001b[0m\u001b[1;33m.\u001b[0m\u001b[0mIncrementalDecoder\u001b[0m\u001b[1;33m)\u001b[0m\u001b[1;33m:\u001b[0m\u001b[1;33m\u001b[0m\u001b[1;33m\u001b[0m\u001b[0m\n",
      "\u001b[1;31mUnicodeEncodeError\u001b[0m: 'charmap' codec can't encode character '\\u0107' in position 32: character maps to <undefined>"
     ]
    }
   ],
   "source": [
    "#Записываем то, что спарсили в csv\n",
    "def write_csv(data):\n",
    "    with open('linkedin.csv', 'a') as f:\n",
    "        writer = csv.writer(f)\n",
    "        writer.writerow([data['full_link_doc'],\n",
    "                         data['name_of_connect_person'],\n",
    "                         data['company_name'],\n",
    "                         data['position_in_company_of_connect_person'],\n",
    "                         data['email'],\n",
    "                         data['location']])\n",
    "        \n",
    "#Зацикливаем полученый ранее список для получения информации со страницы у каждого из пользователей\n",
    "for url in urls:\n",
    "    visiting_profile = url\n",
    "    chrome.get(visiting_profile)\n",
    "    \n",
    "    #Открываем контактную информацию, скролим, получаем хтмл\n",
    "    chrome.find_element_by_link_text('Contact info').click()\n",
    "    \n",
    "    SCROLL_PAUSE_TIME = 5\n",
    "\n",
    "    # Get scroll height\n",
    "    last_height = chrome.execute_script(\"return document.body.scrollHeight\")\n",
    "\n",
    "    for i in range(3):\n",
    "        # Scroll down to bottom\n",
    "        chrome.execute_script(\"window.scrollTo(0, document.body.scrollHeight);\")\n",
    "\n",
    "        # Wait to load page\n",
    "        time.sleep(SCROLL_PAUSE_TIME)\n",
    "\n",
    "        # Calculate new scroll height and compare with last scroll height\n",
    "        new_height = chrome.execute_script(\"return document.body.scrollHeight\")\n",
    "        if new_height == last_height:\n",
    "            break\n",
    "        last_height = new_height\n",
    "\n",
    "    src = chrome.page_source\n",
    "    soup = BeautifulSoup(src, 'lxml')\n",
    "    try:\n",
    "        email = soup.find('section', {'class':'pv-contact-info__contact-type ci-email'}).find('div', {'class': 'pv-contact-info__ci-container t-14'}).find('a', {'class':'pv-contact-info__contact-link t-14 t-black t-normal'}).text.strip()\n",
    "    except:\n",
    "        email = 'empty'\n",
    "    try:    \n",
    "        full_link_doc = soup.find('a', {'class':'pv-contact-info__contact-link t-14 t-black t-normal'}).text.strip()\n",
    "    except:\n",
    "        full_link_doc = 'empty'\n",
    "    print(email, full_link_doc)\n",
    "\n",
    "    chrome.get(visiting_profile)    \n",
    "    \n",
    "    # Тоже самое проделываем и с основной страницей полльзователя, собираем нужную информацию\n",
    "    SCROLL_PAUSE_TIME = 5\n",
    "\n",
    "    # Get scroll height\n",
    "    last_height = chrome.execute_script(\"return document.body.scrollHeight\")\n",
    "\n",
    "    for i in range(3):\n",
    "        # Scroll down to bottom\n",
    "        chrome.execute_script(\"window.scrollTo(0, document.body.scrollHeight);\")\n",
    "\n",
    "        # Wait to load page\n",
    "        time.sleep(SCROLL_PAUSE_TIME)\n",
    "\n",
    "        # Calculate new scroll height and compare with last scroll height\n",
    "        new_height = chrome.execute_script(\"return document.body.scrollHeight\")\n",
    "        if new_height == last_height:\n",
    "            break\n",
    "        last_height = new_height\n",
    "        \n",
    "        src = chrome.page_source\n",
    "        soup = BeautifulSoup(src, 'lxml')\n",
    "        \n",
    "        name_of_connect_person = soup.find('ul', {'class': 'pv-top-card--list inline-flex align-items-center'}).find('li', {'class':'inline t-24 t-black t-normal break-words'}).text.strip()\n",
    "        position_in_company_of_connect_person = soup.find('h2', {'class':'mt1 t-18 t-black t-normal'}).text.strip()\n",
    "        try:\n",
    "            location = soup.find('li', {'class': 't-16 t-black t-normal inline-block'}).text.strip()\n",
    "        except:\n",
    "            location = 'empty'\n",
    "        try:\n",
    "            company_name = soup.find('ul', {'class': 'pv-top-card--experience-list'}).find('span').text.strip()\n",
    "        except:\n",
    "            company_name = 'empty'\n",
    "            \n",
    "        data = {'full_link_doc': full_link_doc,\n",
    "               'name_of_connect_person': name_of_connect_person,\n",
    "               'company_name': company_name,\n",
    "               'position_in_company_of_connect_person': position_in_company_of_connect_person,\n",
    "               'email':email,\n",
    "               'location': location}\n",
    "        write_csv(data)\n",
    "        \n",
    "        \n",
    "        "
   ]
  },
  {
   "cell_type": "code",
   "execution_count": null,
   "metadata": {},
   "outputs": [],
   "source": []
  },
  {
   "cell_type": "code",
   "execution_count": null,
   "metadata": {},
   "outputs": [],
   "source": []
  },
  {
   "cell_type": "code",
   "execution_count": null,
   "metadata": {},
   "outputs": [],
   "source": []
  }
 ],
 "metadata": {
  "kernelspec": {
   "display_name": "Python 3",
   "language": "python",
   "name": "python3"
  },
  "language_info": {
   "codemirror_mode": {
    "name": "ipython",
    "version": 3
   },
   "file_extension": ".py",
   "mimetype": "text/x-python",
   "name": "python",
   "nbconvert_exporter": "python",
   "pygments_lexer": "ipython3",
   "version": "3.7.3"
  }
 },
 "nbformat": 4,
 "nbformat_minor": 4
}
